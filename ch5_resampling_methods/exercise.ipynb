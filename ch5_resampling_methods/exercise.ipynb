{
 "cells": [
  {
   "cell_type": "code",
   "execution_count": 2,
   "metadata": {},
   "outputs": [],
   "source": [
    "import numpy as np\n",
    "import pandas as pd\n",
    "from matplotlib.pyplot import subplots\n",
    "import statsmodels.api as sm\n",
    "from ISLP import load_data\n",
    "from ISLP.models import (ModelSpec as MS, summarize)\n",
    "\n",
    "from sklearn.linear_model import LogisticRegression\n",
    "from sklearn.model_selection import train_test_split"
   ]
  },
  {
   "cell_type": "code",
   "execution_count": 3,
   "metadata": {},
   "outputs": [
    {
     "data": {
      "text/plain": [
       "(          balance        income\n",
       " 0      729.526495  44361.625074\n",
       " 1      817.180407  12106.134700\n",
       " 2     1073.549164  31767.138947\n",
       " 3      529.250605  35704.493935\n",
       " 4      785.655883  38463.495879\n",
       " ...           ...           ...\n",
       " 9995   711.555020  52992.378914\n",
       " 9996   757.962918  19660.721768\n",
       " 9997   845.411989  58636.156984\n",
       " 9998  1569.009053  36669.112365\n",
       " 9999   200.922183  16862.952321\n",
       " \n",
       " [10000 rows x 2 columns],\n",
       " 0       No\n",
       " 1       No\n",
       " 2       No\n",
       " 3       No\n",
       " 4       No\n",
       "         ..\n",
       " 9995    No\n",
       " 9996    No\n",
       " 9997    No\n",
       " 9998    No\n",
       " 9999    No\n",
       " Name: default, Length: 10000, dtype: object)"
      ]
     },
     "execution_count": 3,
     "metadata": {},
     "output_type": "execute_result"
    }
   ],
   "source": [
    "# fit logistics regression to Default dataset\n",
    "Default = load_data('Default')\n",
    "\n",
    "X = Default[['balance', 'income']]\n",
    "Y = Default['default']\n",
    "X, Y"
   ]
  },
  {
   "cell_type": "code",
   "execution_count": null,
   "metadata": {},
   "outputs": [
    {
     "data": {
      "text/plain": [
       "array([-1.94164126e-06])"
      ]
     },
     "execution_count": 12,
     "metadata": {},
     "output_type": "execute_result"
    }
   ],
   "source": [
    "lr_default = LogisticRegression(C=1e10, solver='liblinear')\n",
    "res = lr_default.fit(X, Y)"
   ]
  },
  {
   "cell_type": "code",
   "execution_count": 31,
   "metadata": {},
   "outputs": [
    {
     "name": "stdout",
     "output_type": "stream",
     "text": [
      "0.03302\n"
     ]
    }
   ],
   "source": [
    "# validation using validation set\n",
    "\n",
    "def fit_lr(X, Y):\n",
    "    lr = LogisticRegression(C=1e10, solver='liblinear')\n",
    "    lr = lr.fit(X, Y)\n",
    "    return lr\n",
    "\n",
    "def validate_lr(X, Y, seed=0):\n",
    "    X_train, X_test, Y_train, Y_test = train_test_split(X, Y, test_size=X.shape[0]//2, random_state=seed)\n",
    "    res = fit_lr(X_train, Y_train)\n",
    "    pred = res.predict(X_test)\n",
    "    misclassified = pred == Y_test\n",
    "    Val_set_error = np.count_nonzero(misclassified == False) / misclassified.shape[0]\n",
    "    return Val_set_error\n",
    "\n",
    "total = 0 \n",
    "for i in range(10):\n",
    "    res = validate_lr(X, Y, i)\n",
    "    total += res\n",
    "\n",
    "print(total / 10)"
   ]
  },
  {
   "cell_type": "code",
   "execution_count": 32,
   "metadata": {},
   "outputs": [
    {
     "name": "stdout",
     "output_type": "stream",
     "text": [
      "0.032740000000000005\n"
     ]
    },
    {
     "name": "stderr",
     "output_type": "stream",
     "text": [
      "C:\\Users\\jackt\\AppData\\Local\\Temp\\ipykernel_10748\\550818990.py:2: SettingWithCopyWarning: \n",
      "A value is trying to be set on a copy of a slice from a DataFrame.\n",
      "Try using .loc[row_indexer,col_indexer] = value instead\n",
      "\n",
      "See the caveats in the documentation: https://pandas.pydata.org/pandas-docs/stable/user_guide/indexing.html#returning-a-view-versus-a-copy\n",
      "  X_2.student = np.where(X_2.student == 'Yes', True, False)\n"
     ]
    }
   ],
   "source": [
    "X_2 = Default[['balance', 'income', 'student']]\n",
    "X_2.student = np.where(X_2.student == 'Yes', True, False)\n",
    "lr_default_2 = fit_lr(X_2, Y)\n",
    "\n",
    "total = 0\n",
    "for i in range(10):\n",
    "    res = validate_lr(X_2, Y, i)\n",
    "    total += res\n",
    "print(total / 10)"
   ]
  }
 ],
 "metadata": {
  "kernelspec": {
   "display_name": "islp_20241005",
   "language": "python",
   "name": "python3"
  },
  "language_info": {
   "codemirror_mode": {
    "name": "ipython",
    "version": 3
   },
   "file_extension": ".py",
   "mimetype": "text/x-python",
   "name": "python",
   "nbconvert_exporter": "python",
   "pygments_lexer": "ipython3",
   "version": "3.11.4"
  }
 },
 "nbformat": 4,
 "nbformat_minor": 2
}
